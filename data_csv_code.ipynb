{
 "cells": [
  {
   "cell_type": "code",
   "execution_count": 5,
   "metadata": {},
   "outputs": [],
   "source": [
    "import numpy as np\n",
    "data=np.loadtxt(\"data.csv\",delimiter=\",\")"
   ]
  },
  {
   "cell_type": "code",
   "execution_count": 7,
   "metadata": {},
   "outputs": [
    {
     "data": {
      "text/plain": [
       "(100, 2)"
      ]
     },
     "execution_count": 7,
     "metadata": {},
     "output_type": "execute_result"
    }
   ],
   "source": [
    "data.shape\n",
    "#two columns and 100 rows"
   ]
  },
  {
   "cell_type": "code",
   "execution_count": 20,
   "metadata": {},
   "outputs": [
    {
     "name": "stdout",
     "output_type": "stream",
     "text": [
      "[[32.50234527]\n",
      " [53.42680403]\n",
      " [61.53035803]\n",
      " [47.47563963]\n",
      " [59.81320787]\n",
      " [55.14218841]\n",
      " [52.21179669]\n",
      " [39.29956669]\n",
      " [48.10504169]\n",
      " [52.55001444]\n",
      " [45.41973014]\n",
      " [54.35163488]\n",
      " [44.1640495 ]\n",
      " [58.16847072]\n",
      " [56.72720806]\n",
      " [48.95588857]\n",
      " [44.68719623]\n",
      " [60.29732685]\n",
      " [45.61864377]\n",
      " [38.81681754]\n",
      " [66.18981661]\n",
      " [65.41605175]\n",
      " [47.48120861]\n",
      " [41.57564262]\n",
      " [51.84518691]\n",
      " [59.37082201]\n",
      " [57.31000344]\n",
      " [63.61556125]\n",
      " [46.73761941]\n",
      " [50.55676015]\n",
      " [52.22399609]\n",
      " [35.56783005]\n",
      " [42.43647694]\n",
      " [58.16454011]\n",
      " [57.50444762]\n",
      " [45.44053073]\n",
      " [61.89622268]\n",
      " [33.09383174]\n",
      " [36.43600951]\n",
      " [37.67565486]\n",
      " [44.55560838]\n",
      " [43.31828263]\n",
      " [50.07314563]\n",
      " [43.87061265]\n",
      " [62.99748075]\n",
      " [32.66904376]\n",
      " [40.16689901]\n",
      " [53.57507753]\n",
      " [33.86421497]\n",
      " [64.70713867]\n",
      " [38.11982403]\n",
      " [44.50253806]\n",
      " [40.59953838]\n",
      " [41.72067636]\n",
      " [51.08863468]\n",
      " [55.0780959 ]\n",
      " [41.37772653]\n",
      " [62.49469743]\n",
      " [49.20388754]\n",
      " [41.10268519]\n",
      " [41.18201611]\n",
      " [50.18638949]\n",
      " [52.37844622]\n",
      " [50.13548549]\n",
      " [33.64470601]\n",
      " [39.55790122]\n",
      " [56.13038882]\n",
      " [57.36205213]\n",
      " [60.26921439]\n",
      " [35.67809389]\n",
      " [31.588117  ]\n",
      " [53.66093226]\n",
      " [46.68222865]\n",
      " [43.10782022]\n",
      " [70.34607562]\n",
      " [44.49285588]\n",
      " [57.5045333 ]\n",
      " [36.93007661]\n",
      " [55.80573336]\n",
      " [38.95476907]\n",
      " [56.9012147 ]\n",
      " [56.86890066]\n",
      " [34.3331247 ]\n",
      " [59.04974121]\n",
      " [57.78822399]\n",
      " [54.28232871]\n",
      " [51.0887199 ]\n",
      " [50.28283635]\n",
      " [44.21174175]\n",
      " [38.00548801]\n",
      " [32.94047994]\n",
      " [53.69163957]\n",
      " [68.76573427]\n",
      " [46.2309665 ]\n",
      " [68.31936082]\n",
      " [50.03017434]\n",
      " [49.23976534]\n",
      " [50.03957594]\n",
      " [48.14985889]\n",
      " [25.12848465]]\n",
      "(100, 1)\n",
      "[ 31.70700585  68.77759598  62.5623823   71.54663223  87.23092513\n",
      "  78.21151827  79.64197305  59.17148932  75.3312423   71.30087989\n",
      "  55.16567715  82.47884676  62.00892325  75.39287043  81.43619216\n",
      "  60.72360244  82.89250373  97.37989686  48.84715332  56.87721319\n",
      "  83.87856466 118.5912173   57.25181946  51.39174408  75.38065167\n",
      "  74.76556403  95.45505292  95.22936602  79.05240617  83.43207142\n",
      "  63.35879032  41.4128853   76.61734128  96.76956643  74.08413012\n",
      "  66.58814441  77.76848242  50.71958891  62.12457082  60.81024665\n",
      "  52.68298337  58.56982472  82.90598149  61.4247098  115.2441528\n",
      "  45.57058882  54.0840548   87.99445276  52.72549438  93.57611869\n",
      "  80.16627545  65.10171157  65.56230126  65.28088692  73.43464155\n",
      "  71.13972786  79.10282968  86.52053844  84.74269781  59.35885025\n",
      "  61.68403752  69.84760416  86.09829121  59.10883927  69.89968164\n",
      "  44.86249071  85.49806778  95.53668685  70.25193442  52.72173496\n",
      "  50.39267014  63.64239878  72.24725107  57.81251298 104.25710159\n",
      "  86.64202032  91.486778    55.23166089  79.55043668  44.84712424\n",
      "  80.20752314  83.14274979  55.72348926  77.63418251  99.05141484\n",
      "  79.12064627  69.58889785  69.51050331  73.68756432  61.36690454\n",
      "  67.17065577  85.66820315 114.85387123  90.12357207  97.91982104\n",
      "  81.53699078  72.11183247  85.23200734  66.22495789  53.45439421]\n",
      "(100,)\n"
     ]
    }
   ],
   "source": [
    "X=data[:,0].reshape(-1,1)\n",
    "Y=data[:,1]\n",
    "print(X)\n",
    "print(X.shape)\n",
    "print(Y)\n",
    "print(Y.shape)\n"
   ]
  },
  {
   "cell_type": "code",
   "execution_count": 26,
   "metadata": {},
   "outputs": [
    {
     "name": "stdout",
     "output_type": "stream",
     "text": [
      "(75, 1)\n",
      "(25, 1)\n",
      "(75,)\n",
      "(25,)\n"
     ]
    }
   ],
   "source": [
    "from sklearn import model_selection\n",
    "x_train,x_test,y_train,y_test=model_selection.train_test_split(X,Y)\n",
    "print(x_train.shape)\n",
    "print(x_test.shape)\n",
    "print(y_train.shape)\n",
    "print(y_test.shape)\n"
   ]
  },
  {
   "cell_type": "code",
   "execution_count": 28,
   "metadata": {},
   "outputs": [
    {
     "data": {
      "text/plain": [
       "LinearRegression(copy_X=True, fit_intercept=True, n_jobs=1, normalize=False)"
      ]
     },
     "execution_count": 28,
     "metadata": {},
     "output_type": "execute_result"
    }
   ],
   "source": [
    "from sklearn.linear_model import LinearRegression\n",
    "algo=LinearRegression()\n",
    "algo.fit(x_train,y_train)"
   ]
  },
  {
   "cell_type": "code",
   "execution_count": 47,
   "metadata": {},
   "outputs": [
    {
     "data": {
      "text/plain": [
       "array([1.42346229])"
      ]
     },
     "execution_count": 47,
     "metadata": {},
     "output_type": "execute_result"
    }
   ],
   "source": [
    "algo.coef_"
   ]
  },
  {
   "cell_type": "code",
   "execution_count": 48,
   "metadata": {},
   "outputs": [
    {
     "data": {
      "text/plain": [
       "2.71403233956687"
      ]
     },
     "execution_count": 48,
     "metadata": {},
     "output_type": "execute_result"
    }
   ],
   "source": [
    "algo.intercept_"
   ]
  },
  {
   "cell_type": "code",
   "execution_count": 45,
   "metadata": {},
   "outputs": [
    {
     "data": {
      "text/plain": [
       "<matplotlib.collections.PathCollection at 0x1d14093dda0>"
      ]
     },
     "execution_count": 45,
     "metadata": {},
     "output_type": "execute_result"
    },
    {
     "data": {
      "image/png": "[encoded data removed]",
      "text/plain": [
       "<Figure size 432x288 with 1 Axes>"
      ]
     },
     "metadata": {},
     "output_type": "display_data"
    }
   ],
   "source": [
    "import matplotlib.pyplot as plt\n",
    "m=algo.coef_[0]\n",
    "c=algo.intercept_\n",
    "x=np.arange(20,100,0.1)\n",
    "y=m*x+c\n",
    "plt.plot(x,y,'r')\n",
    "plt.scatter(x_train,y_train)"
   ]
  },
  {
   "cell_type": "code",
   "execution_count": 46,
   "metadata": {},
   "outputs": [
    {
     "data": {
      "text/plain": [
       "<matplotlib.collections.PathCollection at 0x1d141b5c2e8>"
      ]
     },
     "execution_count": 46,
     "metadata": {},
     "output_type": "execute_result"
    },
    {
     "data": {
      "image/png": "[encoded data removed]",
      "text/plain": [
       "<Figure size 432x288 with 1 Axes>"
      ]
     },
     "metadata": {},
     "output_type": "display_data"
    }
   ],
   "source": [
    "m=algo.coef_[0]\n",
    "c=algo.intercept_\n",
    "x=np.arange(20,100,0.1)\n",
    "y=m*x+c\n",
    "plt.plot(x,y,'r')\n",
    "plt.scatter(x_test,y_test)"
   ]
  }
 ],
 "metadata": {
  "kernelspec": {
   "display_name": "Python 3",
   "language": "python",
   "name": "python3"
  },
  "language_info": {
   "codemirror_mode": {
    "name": "ipython",
    "version": 3
   },
   "file_extension": ".py",
   "mimetype": "text/x-python",
   "name": "python",
   "nbconvert_exporter": "python",
   "pygments_lexer": "ipython3",
   "version": "3.6.5"
  }
 },
 "nbformat": 4,
 "nbformat_minor": 2
}
